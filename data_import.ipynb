{
 "cells": [
  {
   "cell_type": "code",
   "execution_count": 28,
   "metadata": {},
   "outputs": [
    {
     "data": {
      "text/plain": [
       "2400"
      ]
     },
     "execution_count": 28,
     "metadata": {},
     "output_type": "execute_result"
    }
   ],
   "source": [
    "from os import listdir\n",
    "labels = listdir('dataset')\n",
    "d_images = list()\n",
    "u_images = list()\n",
    "for image in listdir('dataset/d'):\n",
    "    d_images.append('dataset/d/'+image)\n",
    "for image in listdir('dataset/u'):\n",
    "    u_images.append('dataset/u/'+image)\n",
    "len(d_images+u_images)"
   ]
  },
  {
   "cell_type": "code",
   "execution_count": 53,
   "metadata": {},
   "outputs": [],
   "source": [
    "import numpy as np\n",
    "from skimage import novice\n",
    "data = np.ndarray([2400,96*96*3])\n",
    "i = 0\n",
    "for image in d_images:\n",
    "    raw = novice.open(image)\n",
    "    raw.size = (96,96)\n",
    "    data[i] = raw.rgb.reshape([96*96*3])\n",
    "    i = i+1\n",
    "for image in u_images:\n",
    "    raw = novice.open(image)\n",
    "    raw.size = (96,96)\n",
    "    data[i] = raw.rgb.reshape([96*96*3])\n",
    "    i = i+1"
   ]
  },
  {
   "cell_type": "code",
   "execution_count": 61,
   "metadata": {},
   "outputs": [],
   "source": [
    "data = np.hstack([data, np.zeros([2400,1])])\n",
    "for i in range(0,2000):\n",
    "    data[i][27648]=1"
   ]
  },
  {
   "cell_type": "code",
   "execution_count": 86,
   "metadata": {},
   "outputs": [],
   "source": [
    "np.random.shuffle(data)\n",
    "train_images=data[0:1920,0:27648]\n",
    "train_labels=np.zeros((1920,2))\n",
    "train_labels[np.arange(1920), np.reshape(data[0:1920,27648:27649].astype(int),[1920])]=1\n",
    "test_images=data[1920:2400,0:27648]\n",
    "test_labels=np.zeros((480,2))\n",
    "test_labels[np.arange(480), np.reshape(data[1920:2400,27648:27649].astype(int),[480])]=1"
   ]
  },
  {
   "cell_type": "code",
   "execution_count": 87,
   "metadata": {},
   "outputs": [
    {
     "name": "stdout",
     "output_type": "stream",
     "text": [
      "(1920, 27648)\n",
      "(480, 27648)\n",
      "(1920, 2)\n",
      "(480, 2)\n"
     ]
    }
   ],
   "source": [
    "print train_images.shape\n",
    "print test_images.shape\n",
    "print train_labels.shape\n",
    "print test_labels.shape"
   ]
  },
  {
   "cell_type": "code",
   "execution_count": null,
   "metadata": {
    "collapsed": true
   },
   "outputs": [],
   "source": []
  }
 ],
 "metadata": {
  "kernelspec": {
   "display_name": "Python 2",
   "language": "python",
   "name": "python2"
  },
  "language_info": {
   "codemirror_mode": {
    "name": "ipython",
    "version": 2
   },
   "file_extension": ".py",
   "mimetype": "text/x-python",
   "name": "python",
   "nbconvert_exporter": "python",
   "pygments_lexer": "ipython2",
   "version": "2.7.12"
  }
 },
 "nbformat": 4,
 "nbformat_minor": 2
}
